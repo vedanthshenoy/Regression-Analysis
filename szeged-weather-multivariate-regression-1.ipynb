{
 "cells": [
  {
   "cell_type": "markdown",
   "metadata": {},
   "source": [
    "## Dependencies and Data"
   ]
  },
  {
   "cell_type": "markdown",
   "metadata": {},
   "source": [
    "As always here we import all the dependencies and data "
   ]
  },
  {
   "cell_type": "code",
   "execution_count": 10,
   "metadata": {},
   "outputs": [
    {
     "name": "stdout",
     "output_type": "stream",
     "text": [
      "                  Formatted Date        Summary Precip Type  Temperature (C)  \\\n",
      "0  2006-04-01 00:00:00.000 +0200  Partly Cloudy        rain         9.472222   \n",
      "1  2006-04-01 01:00:00.000 +0200  Partly Cloudy        rain         9.355556   \n",
      "2  2006-04-01 02:00:00.000 +0200  Mostly Cloudy        rain         9.377778   \n",
      "3  2006-04-01 03:00:00.000 +0200  Partly Cloudy        rain         8.288889   \n",
      "4  2006-04-01 04:00:00.000 +0200  Mostly Cloudy        rain         8.755556   \n",
      "\n",
      "   Apparent Temperature (C)  Humidity  Wind Speed (km/h)  \\\n",
      "0                  7.388889      0.89            14.1197   \n",
      "1                  7.227778      0.86            14.2646   \n",
      "2                  9.377778      0.89             3.9284   \n",
      "3                  5.944444      0.83            14.1036   \n",
      "4                  6.977778      0.83            11.0446   \n",
      "\n",
      "   Wind Bearing (degrees)  Visibility (km)  Loud Cover  Pressure (millibars)  \\\n",
      "0                   251.0          15.8263         0.0               1015.13   \n",
      "1                   259.0          15.8263         0.0               1015.63   \n",
      "2                   204.0          14.9569         0.0               1015.94   \n",
      "3                   269.0          15.8263         0.0               1016.41   \n",
      "4                   259.0          15.8263         0.0               1016.51   \n",
      "\n",
      "                       Daily Summary  \n",
      "0  Partly cloudy throughout the day.  \n",
      "1  Partly cloudy throughout the day.  \n",
      "2  Partly cloudy throughout the day.  \n",
      "3  Partly cloudy throughout the day.  \n",
      "4  Partly cloudy throughout the day.  \n"
     ]
    }
   ],
   "source": [
    "import pandas as pd\n",
    "import numpy as np\n",
    "\n",
    "dataset=pd.read_csv('weatherHistory-data.csv')\n",
    "\n",
    "print(dataset.head())"
   ]
  },
  {
   "cell_type": "markdown",
   "metadata": {},
   "source": [
    "Since in this code we are dealing with multivariate linear regression we need multiple variables. Now we will consider Pressure values too along with temperature to predict humidity."
   ]
  },
  {
   "cell_type": "code",
   "execution_count": 11,
   "metadata": {},
   "outputs": [
    {
     "name": "stdout",
     "output_type": "stream",
     "text": [
      "   Apparent Temperature (C)  Pressure (millibars)\n",
      "0                  7.388889               1015.13\n",
      "1                  7.227778               1015.63\n",
      "2                  9.377778               1015.94\n",
      "3                  5.944444               1016.41\n",
      "4                  6.977778               1016.51\n",
      "   Humidity\n",
      "0      0.89\n",
      "1      0.86\n",
      "2      0.89\n",
      "3      0.83\n",
      "4      0.83\n"
     ]
    }
   ],
   "source": [
    "data=dataset[[\"Apparent Temperature (C)\",\"Pressure (millibars)\"]]\n",
    "target=dataset[[\"Humidity\"]]\n",
    "print(data.head())\n",
    "print(target.head())"
   ]
  },
  {
   "cell_type": "markdown",
   "metadata": {},
   "source": [
    "## Model and Fitting"
   ]
  },
  {
   "cell_type": "markdown",
   "metadata": {},
   "source": [
    "We split the data for training and testing "
   ]
  },
  {
   "cell_type": "code",
   "execution_count": 12,
   "metadata": {},
   "outputs": [
    {
     "name": "stdout",
     "output_type": "stream",
     "text": [
      "       Apparent Temperature (C)  Pressure (millibars)\n",
      "95679                  5.900000               1015.97\n",
      "70819                 15.088889               1018.50\n",
      "6028                  13.483333               1016.11\n",
      "47353                -10.905556               1025.06\n",
      "25991                 11.627778               1016.84\n",
      "       Humidity\n",
      "95679      0.88\n",
      "70819      0.66\n",
      "6028       0.89\n",
      "47353      0.96\n",
      "25991      0.88\n"
     ]
    }
   ],
   "source": [
    "from sklearn.model_selection import train_test_split\n",
    "\n",
    "x_train,x_test,y_train,y_test=train_test_split(data,target,test_size=0.33,random_state=4)\n",
    "\n",
    "print(x_train.head())\n",
    "print(y_train.head())"
   ]
  },
  {
   "cell_type": "markdown",
   "metadata": {},
   "source": [
    "We fit the training values into the model which is logistic regresion. The x_train and x_test will have 2 columns since the data x is dealing with temperature as well as pressure.\n",
    "We also find out the slope value,intercept value and all the metrics scores."
   ]
  },
  {
   "cell_type": "code",
   "execution_count": 13,
   "metadata": {},
   "outputs": [
    {
     "name": "stdout",
     "output_type": "stream",
     "text": [
      "[[0.9241307 ]\n",
      " [0.75679777]\n",
      " [0.7578168 ]\n",
      " ...\n",
      " [0.62085097]\n",
      " [0.63422771]\n",
      " [0.71335252]]\n",
      "The slope of  the line is :  [[-1.10741764e-02  7.74305381e-06]]\n",
      "The intercepts of the line is :  [0.84704779]\n",
      "Mean squared error is :  0.024100124784505433\n",
      "r2 score is :  0.3597650718642639\n"
     ]
    }
   ],
   "source": [
    "from sklearn.linear_model import LinearRegression\n",
    "\n",
    "model=LinearRegression()\n",
    "\n",
    "model.fit(x_train,y_train)\n",
    "\n",
    "pred=model.predict(x_test)\n",
    "print(pred)\n",
    "\n",
    "print(\"The slope of  the line is : \",model.coef_)\n",
    "print(\"The intercepts of the line is : \",model.intercept_)\n",
    "\n",
    "from sklearn.metrics import mean_squared_error,r2_score\n",
    "\n",
    "print(\"Mean squared error is : \",mean_squared_error(y_test,pred))\n",
    "print(\"r2 score is : \",r2_score(y_test,pred))"
   ]
  },
  {
   "cell_type": "markdown",
   "metadata": {},
   "source": [
    "Changing x_test values as array values since the plotting function uses only array values."
   ]
  },
  {
   "cell_type": "code",
   "execution_count": 5,
   "metadata": {},
   "outputs": [],
   "source": [
    "x_test=x_test.values"
   ]
  },
  {
   "cell_type": "markdown",
   "metadata": {},
   "source": [
    "## Visualization"
   ]
  },
  {
   "cell_type": "markdown",
   "metadata": {},
   "source": [
    "First we find the relationship between temperature and humidity alone. "
   ]
  },
  {
   "cell_type": "code",
   "execution_count": 12,
   "metadata": {},
   "outputs": [
    {
     "data": {
      "image/png": "[encoded data removed]",
      "text/plain": [
       "<Figure size 432x288 with 1 Axes>"
      ]
     },
     "metadata": {},
     "output_type": "display_data"
    }
   ],
   "source": [
    "import matplotlib.pyplot as plt\n",
    "\n",
    "\n",
    "plt.scatter(x_test[:,0], y_test,  color='black')\n",
    "plt.plot(x_test[:,0],pred, color='blue', linewidth=3)\n",
    "\n",
    "plt.xticks(())\n",
    "plt.yticks(())\n",
    "\n",
    "plt.ylabel(\"Humidity\")\n",
    "plt.xlabel(\"Apparent Temperature(C)\")\n",
    "\n",
    "plt.show()"
   ]
  },
  {
   "cell_type": "markdown",
   "metadata": {},
   "source": [
    "Here we get to know the inverse variation of temperature and humidity as seen in the single variate case. \n",
    "Next we try to find the relationship between pressure and humidity."
   ]
  },
  {
   "cell_type": "code",
   "execution_count": 13,
   "metadata": {},
   "outputs": [
    {
     "data": {
      "image/png": "[encoded data removed]",
      "text/plain": [
       "<Figure size 432x288 with 1 Axes>"
      ]
     },
     "metadata": {},
     "output_type": "display_data"
    }
   ],
   "source": [
    "plt.scatter(x_test[:,1], y_test,  color='black')\n",
    "plt.plot(x_test[:,1],pred, color='blue', linewidth=3)\n",
    "\n",
    "plt.xticks(())\n",
    "plt.yticks(())\n",
    "\n",
    "plt.ylabel(\"Humidity\")\n",
    "plt.xlabel(\"Pressure (millibars)\")\n",
    "\n",
    "plt.show()"
   ]
  },
  {
   "cell_type": "markdown",
   "metadata": {},
   "source": [
    "Here we see the most dirtiest relationship of all time..Hence we can conclude that there is not much relationship between pressure and humidity.\n",
    "The task for you is to get another variable from the dataset or even try with some other data and try to find relationship between the variables."
   ]
  },
  {
   "cell_type": "code",
   "execution_count": 18,
   "metadata": {},
   "outputs": [],
   "source": [
    "from sklearn.preprocessing import StandardScaler\n",
    "\n",
    "x_scaled=StandardScaler()\n",
    "x_train = x_scaled.fit_transform(x_train)\n",
    "humidity_scaled = StandardScaler()\n",
    "humidity_train = humidity_scaled.fit_transform(y_train)\n",
    "x_test_scaled= StandardScaler()\n",
    "x_test=x_test_scaled.fit_transform(x_test)\n",
    "humidity_test_scaled=StandardScaler()\n",
    "humidity_test=humidity_test_scaled.fit_transform(y_test)"
   ]
  },
  {
   "cell_type": "markdown",
   "metadata": {},
   "source": [
    "## Load data into Support Vector Regression model"
   ]
  },
  {
   "cell_type": "markdown",
   "metadata": {},
   "source": [
    "Here again we load the data to SVR model and see how different it performs to the multivariate data."
   ]
  },
  {
   "cell_type": "code",
   "execution_count": 19,
   "metadata": {},
   "outputs": [
    {
     "name": "stdout",
     "output_type": "stream",
     "text": [
      "[ 1.0661142   0.16348472  0.16898778 ... -0.5698177  -0.49768266\n",
      " -0.07084706]\n"
     ]
    }
   ],
   "source": [
    "from sklearn.svm import SVR\n",
    "\n",
    "model1=SVR(kernel=\"linear\")\n",
    "\n",
    "model1.fit(x_train,humidity_train.ravel())\n",
    "pred1=model1.predict(x_test)\n",
    "\n",
    "print(pred1)"
   ]
  },
  {
   "cell_type": "code",
   "execution_count": 20,
   "metadata": {},
   "outputs": [
    {
     "name": "stdout",
     "output_type": "stream",
     "text": [
      "Mean squared error is :  0.6441258213448454\n",
      "r2 score is :  0.3558741786551546\n"
     ]
    }
   ],
   "source": [
    "from sklearn.metrics import mean_squared_error,r2_score\n",
    "\n",
    "print(\"Mean squared error is : \",mean_squared_error(humidity_test,pred1))\n",
    "print(\"r2 score is : \",r2_score(humidity_test,pred1))"
   ]
  },
  {
   "cell_type": "markdown",
   "metadata": {},
   "source": [
    "As we can see the mean square error is more in SVR than Linear regression for this multivariate data. There is no much sound change in the r-squared score."
   ]
  }
 ],
 "metadata": {
  "kernelspec": {
   "display_name": "Python 3",
   "language": "python",
   "name": "python3"
  },
  "language_info": {
   "codemirror_mode": {
    "name": "ipython",
    "version": 3
   },
   "file_extension": ".py",
   "mimetype": "text/x-python",
   "name": "python",
   "nbconvert_exporter": "python",
   "pygments_lexer": "ipython3",
   "version": "3.6.5"
  }
 },
 "nbformat": 4,
 "nbformat_minor": 2
}
