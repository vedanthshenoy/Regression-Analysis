{
 "cells": [
  {
   "cell_type": "markdown",
   "metadata": {},
   "source": [
    "## Data and Dependencies"
   ]
  },
  {
   "cell_type": "markdown",
   "metadata": {},
   "source": [
    "Firstly, we import all the dependencies we require and get the data. This data is obtained from the kaggle food choices challenge. \n",
    "This data is unclean and not preprocessed."
   ]
  },
  {
   "cell_type": "code",
   "execution_count": 165,
   "metadata": {},
   "outputs": [
    {
     "name": "stdout",
     "output_type": "stream",
     "text": [
      "(125, 61)\n",
      "['2.4' '3.654' '3.3' '3.2' '3.5' '2.25' '3.8' '3.3' '3.3' '3.3' '3.5'\n",
      " '3.904' '3.4' '3.6' '3.1' nan '4' '3.6' '3.4' '2.2' '3.3' '3.87' '3.7'\n",
      " '3.7' '3.9' '2.8' '3.7' '3' '3.2' '3.5' '4' '4' '3.4' '2.8' '3.65' '3'\n",
      " '3.7' '3.4' '3.89' '3' '3.4' '2.9' '3.6' '3.5' '3.2' '3.605' '3.8' '2.8'\n",
      " '3.5' '3.83' '3.6' '3.3' '3.3' '3.292' '3.5' '3.35' '3.8' '2.8' '3.5'\n",
      " '3.7' '3.6' 'Personal ' '3.9' '2.6' '3.5' '3.2' '3' '3.6' '3.2' '3.67'\n",
      " '3.73' '4' '3.1' '3.79 bitch' '2.71' '3' '3.7' '3.1' '3' '3.9' '3.4'\n",
      " '3.5' '3.7' '3.7' '3.83' '2.6' '3' '3.2' '3.5' '3.2' '3.68' '3.8' '3.3'\n",
      " '3.2' '3.75' '3.5' '3.92' '3.9' '3.9' '3.2' '3.5' '3.4' nan '3.7'\n",
      " 'Unknown' '3' '3' '3.8' '3.8' '3.4' '3.7' '2.9' '3.9' '3.6' '2.8' '3.3'\n",
      " '3.4' '3.77' '3.63' '3.2' '3.5' '3' '3.882' '3' '3.9']\n"
     ]
    }
   ],
   "source": [
    "import pandas as pd\n",
    "import numpy as np\n",
    "from sklearn.linear_model import LinearRegression\n",
    "\n",
    "dataset=pd.read_csv('food-GPA-dataset.csv')\n",
    "#print(dataset.head(5))\n",
    "print(dataset.shape)\n",
    "\n",
    "dataset=dataset.values\n",
    "\n",
    "original_data=dataset[:,1:61]\n",
    "original_labels=dataset[:,0]\n",
    "\n",
    "print(original_labels)\n"
   ]
  },
  {
   "cell_type": "markdown",
   "metadata": {},
   "source": [
    "As we can see there are lot of unwanted and corrupt values given in place of GPA field"
   ]
  },
  {
   "cell_type": "markdown",
   "metadata": {},
   "source": [
    "## Data Cleaning and Preprocessing"
   ]
  },
  {
   "cell_type": "markdown",
   "metadata": {},
   "source": [
    "In machine learning, the biggest deal is with the data..once we get data in a good format,then algorithm implementation is a cakewalk.\n",
    "Here first we will select what all fields we require as data to predict the GPA.\n",
    "Once that is done we will remove all the unwanted dirty filthy crazy unparliamentary words using regular expressions..in jargon terms, regex 8)"
   ]
  },
  {
   "cell_type": "markdown",
   "metadata": {},
   "source": [
    "First we select the features we want manually..."
   ]
  },
  {
   "cell_type": "code",
   "execution_count": 166,
   "metadata": {},
   "outputs": [
    {
     "name": "stdout",
     "output_type": "stream",
     "text": [
      "   Gender                    weight  breakfast  coffee  drink\n",
      "0       2                       187          1       1    1.0\n",
      "1       1                       155          1       2    2.0\n",
      "2       1  I'm not answering this.           1       2    1.0\n",
      "3       1             Not sure, 240          1       2    2.0\n",
      "4       1                       190          1       2    2.0\n"
     ]
    }
   ],
   "source": [
    "df=pd.read_csv('food-GPA-dataset.csv')\n",
    "data=df[[\"Gender\",\"weight\",\"breakfast\",\"coffee\",\"drink\"]]\n",
    "print(data.head())"
   ]
  },
  {
   "cell_type": "markdown",
   "metadata": {},
   "source": [
    "Here in the weight field we can see that most of the entries are pure rubbish or invalid\n",
    "Now we have to change them as well as NaN values into valid entries."
   ]
  },
  {
   "cell_type": "code",
   "execution_count": 167,
   "metadata": {},
   "outputs": [
    {
     "name": "stdout",
     "output_type": "stream",
     "text": [
      "   Gender  weight  breakfast  coffee  drink\n",
      "0       2   187.0          1       1    1.0\n",
      "1       1   155.0          1       2    2.0\n",
      "2       1     NaN          1       2    1.0\n",
      "3       1   240.0          1       2    2.0\n",
      "4       1   190.0          1       2    2.0\n"
     ]
    }
   ],
   "source": [
    "#converting weight to integer values using regular expressions\n",
    "df['weight'] = df['weight'].astype(str).str.replace(r'[^\\d\\d\\d]', '').replace('', np.nan).astype(float)\n",
    "\n",
    "data=df[[\"Gender\",\"weight\",\"breakfast\",\"coffee\",\"drink\"]]\n",
    "print(data.head())"
   ]
  },
  {
   "cell_type": "markdown",
   "metadata": {},
   "source": [
    "Still we have those irritating NaN values.we would just replace them by median values of the whole column. This we will do directly after the data is split into training and testing."
   ]
  },
  {
   "cell_type": "markdown",
   "metadata": {},
   "source": [
    "Now we convert the pandas dataframe into a numpy array to split the whole data into training and testing data.\n",
    "\n",
    "Now we can do this with all the values., but in this code we will try to predict the GPA scores only using weight of the student as a parameter."
   ]
  },
  {
   "cell_type": "code",
   "execution_count": 168,
   "metadata": {},
   "outputs": [
    {
     "name": "stdout",
     "output_type": "stream",
     "text": [
      "187.0\n"
     ]
    }
   ],
   "source": [
    "data=df[[\"weight\"]]\n",
    "data=data.values\n",
    "\n",
    "print(data[0][0])   #just a value is printed from the processed data"
   ]
  },
  {
   "cell_type": "markdown",
   "metadata": {},
   "source": [
    "We need to clean the GPA values now which is going to be our target\n",
    "We use regular expressions to replace the dirty values with logical float values."
   ]
  },
  {
   "cell_type": "code",
   "execution_count": 169,
   "metadata": {},
   "outputs": [
    {
     "name": "stdout",
     "output_type": "stream",
     "text": [
      "0    2.40\n",
      "1    3.65\n",
      "2    3.30\n",
      "3    3.20\n",
      "4    3.50\n",
      "Name: GPA, dtype: float64\n",
      "3.2\n"
     ]
    }
   ],
   "source": [
    "# Use regex to clean blended data, fill missing values and set up dtype\n",
    "labels = df['GPA'].str.replace(r'[^\\d\\.\\d+]', '').replace((np.nan, ''), '3.5').astype(float).round(2)\n",
    "print(labels.head())\n",
    "\n",
    "#Converting into numpy array\n",
    "labels=labels.values\n",
    "print(labels[3])"
   ]
  },
  {
   "cell_type": "markdown",
   "metadata": {},
   "source": [
    "## Splitting Data and Feeding to Model"
   ]
  },
  {
   "cell_type": "code",
   "execution_count": 170,
   "metadata": {},
   "outputs": [
    {
     "data": {
      "text/plain": [
       "(True, False, True, False)"
      ]
     },
     "execution_count": 170,
     "metadata": {},
     "output_type": "execute_result"
    }
   ],
   "source": [
    "from sklearn.linear_model import LinearRegression\n",
    "from sklearn.model_selection import train_test_split\n",
    "\n",
    "x_train,x_test,y_train,y_test=train_test_split(data,labels,test_size=0.3,random_state=2)\n",
    "\n",
    "#To check if NaN values are there in the data, if yes then the regression model will not work.\n",
    "np.isnan(x_train).any(), np.isnan(y_train).any(), np.isnan(x_test).any(), np.isnan(y_test).any()"
   ]
  },
  {
   "cell_type": "markdown",
   "metadata": {},
   "source": [
    "Here we can see that in x_train and x_test, NaN values are sneaking around\n",
    "So we replace NaN values with the median value of the entire data"
   ]
  },
  {
   "cell_type": "code",
   "execution_count": 171,
   "metadata": {},
   "outputs": [],
   "source": [
    "x_train[np.isnan(x_train)] = np.median(x_train[~np.isnan(x_train)])\n",
    "x_test[np.isnan(x_test)] = np.median(x_test[~np.isnan(x_test)])"
   ]
  },
  {
   "cell_type": "markdown",
   "metadata": {},
   "source": [
    "Feeding the data into the model and predict the values of y_test using x_test inputs."
   ]
  },
  {
   "cell_type": "code",
   "execution_count": 179,
   "metadata": {},
   "outputs": [
    {
     "name": "stdout",
     "output_type": "stream",
     "text": [
      "[3.4729121  3.39189481 3.61137802 3.57602502 3.44345127 3.39926002\n",
      " 3.45081648 3.45818169 3.48027731 3.39631394 3.46186429 3.38894873\n",
      " 3.40662523 3.4729121  3.48764252 3.49500773 3.49795381 3.46554689\n",
      " 3.37716439 3.40662523 3.46554689 3.44345127 3.40367914 3.46186429\n",
      " 3.50237294 3.50237294 3.42135564 3.45081648 3.49500773 3.51710335\n",
      " 3.46849298 3.3845296  3.50973815 3.43608606 3.41251739 3.48027731\n",
      " 3.44345127 3.50237294]\n"
     ]
    }
   ],
   "source": [
    "model1=LinearRegression()\n",
    "\n",
    "model1.fit(x_train,y_train)\n",
    "y_prediction=model1.predict(x_test)\n",
    "\n",
    "print(y_prediction)"
   ]
  },
  {
   "cell_type": "markdown",
   "metadata": {},
   "source": [
    "## Accuracy, MSE and Variance Score for Linear Regression model"
   ]
  },
  {
   "cell_type": "markdown",
   "metadata": {},
   "source": [
    "metrics.accuracy_score is used to measure classification accuracy as we used till now, it can't be used to measure accuracy of regression model because it doesn't make sense to see accuracy for regression - predictions rarely can equal the expected values. And if predictions differ from expected values by 1%, the accuracy will be zero, though these predictions are great.\n",
    "\n",
    "Instead of accuracy_score, we can use other techniques such as model.score..,where model=LinearRegression().\n",
    "Similarly, We can also use Mean Squared Error(MSE) and Variance score."
   ]
  },
  {
   "cell_type": "code",
   "execution_count": 173,
   "metadata": {},
   "outputs": [
    {
     "name": "stdout",
     "output_type": "stream",
     "text": [
      "Accuracy of the Linear Regression model is : -16.141554790197898 %\n",
      "Coefficients: \n",
      " [0.00147304]\n",
      "Mean squared error: %.2f 0.21493233342696047\n",
      "Variance score: %.2f -0.16141554790197898\n",
      "(38, 1)\n",
      "(38,)\n"
     ]
    },
    {
     "data": {
      "image/png": "[encoded data removed]",
      "text/plain": [
       "<Figure size 432x288 with 1 Axes>"
      ]
     },
     "metadata": {},
     "output_type": "display_data"
    }
   ],
   "source": [
    "from sklearn.metrics import mean_squared_error, r2_score\n",
    "import matplotlib.pyplot as plt\n",
    "\n",
    "\n",
    "accuracy=model1.score(x_test,y_test)\n",
    "print(\"Accuracy of the Linear Regression model is : \"+str(accuracy*100)+\" %\")\n",
    "\n",
    "# The coefficients\n",
    "print('Coefficients: \\n', model1.coef_)\n",
    "# The mean squared error\n",
    "print(\"Mean squared error: %.2f\", mean_squared_error(y_test,y_prediction))\n",
    "# Explained variance score: 1 is perfect prediction\n",
    "print('Variance score: %.2f',r2_score(y_test,y_prediction))\n",
    "\n",
    "print(x_test.shape)\n",
    "print(y_test.shape)\n",
    "# Plot outputs\n",
    "plt.scatter(x_test,y_test,  color='black')\n",
    "plt.plot(x_test,y_prediction, color='blue', linewidth=3)\n",
    "\n",
    "plt.xticks(())\n",
    "plt.yticks(())\n",
    "\n",
    "plt.show()"
   ]
  },
  {
   "cell_type": "markdown",
   "metadata": {},
   "source": [
    "Now, this is a pretty awful model...This is because as you can see the data is totally spread out and it is very difficult to get a straight line to fit across this data."
   ]
  },
  {
   "cell_type": "markdown",
   "metadata": {},
   "source": [
    "We will try with Support Vector Regression(SVR) and see what will be the result in that."
   ]
  },
  {
   "cell_type": "markdown",
   "metadata": {},
   "source": [
    "## Support Vector Regression (SVR)"
   ]
  },
  {
   "cell_type": "code",
   "execution_count": 177,
   "metadata": {},
   "outputs": [],
   "source": [
    "from sklearn.svm import SVR\n",
    "\n",
    "model2=SVR(kernel='linear')\n",
    "model2.fit(x_train,y_train)\n",
    "\n",
    "svr_pred=model2.predict(x_test)"
   ]
  },
  {
   "cell_type": "markdown",
   "metadata": {},
   "source": [
    "## Accuracy, MSE and Variance Score for Linear Regression model"
   ]
  },
  {
   "cell_type": "code",
   "execution_count": 178,
   "metadata": {},
   "outputs": [
    {
     "name": "stdout",
     "output_type": "stream",
     "text": [
      "Accuracy of the Support Vector Regression model is : -19.59883734525838 %\n",
      "Coefficients: \n",
      " [[0.00066667]]\n",
      "Mean squared error: %.2f 0.22133040350805933\n",
      "Variance score: %.2f -0.1959883734525838\n",
      "(38, 1)\n",
      "(38,)\n"
     ]
    },
    {
     "data": {
      "image/png": "[encoded data removed]",
      "text/plain": [
       "<Figure size 432x288 with 1 Axes>"
      ]
     },
     "metadata": {},
     "output_type": "display_data"
    }
   ],
   "source": [
    "accuracy=model2.score(x_test,y_test)\n",
    "print(\"Accuracy of the Support Vector Regression model is : \"+str(accuracy*100)+\" %\")\n",
    "\n",
    "# The coefficients\n",
    "print('Coefficients: \\n', model2.coef_)\n",
    "# The mean squared error\n",
    "print(\"Mean squared error: %.2f\", mean_squared_error(y_test,svr_pred))\n",
    "# Explained variance score: 1 is perfect prediction\n",
    "print('Variance score: %.2f',r2_score(y_test,svr_pred))\n",
    "\n",
    "print(x_test.shape)\n",
    "print(y_test.shape)\n",
    "# Plot outputs\n",
    "plt.scatter(x_test,y_test,  color='black')\n",
    "plt.plot(x_test,y_prediction, color='blue', linewidth=3)\n",
    "\n",
    "plt.xticks(())\n",
    "plt.yticks(())\n",
    "\n",
    "plt.show()"
   ]
  },
  {
   "cell_type": "markdown",
   "metadata": {},
   "source": [
    "We can see the SVR model performs worse than Linear Regression...even worse with rbf kernel"
   ]
  },
  {
   "cell_type": "markdown",
   "metadata": {},
   "source": [
    "We'll have a look at better data in the next code example...Whatever be it..we'll never use in-built dataset."
   ]
  },
  {
   "cell_type": "code",
   "execution_count": null,
   "metadata": {},
   "outputs": [],
   "source": []
  }
 ],
 "metadata": {
  "kernelspec": {
   "display_name": "Python 3",
   "language": "python",
   "name": "python3"
  },
  "language_info": {
   "codemirror_mode": {
    "name": "ipython",
    "version": 3
   },
   "file_extension": ".py",
   "mimetype": "text/x-python",
   "name": "python",
   "nbconvert_exporter": "python",
   "pygments_lexer": "ipython3",
   "version": "3.6.5"
  }
 },
 "nbformat": 4,
 "nbformat_minor": 2
}
