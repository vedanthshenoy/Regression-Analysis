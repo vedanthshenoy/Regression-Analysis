{
 "cells": [
  {
   "cell_type": "markdown",
   "metadata": {},
   "source": [
    "## Dependencies and Data"
   ]
  },
  {
   "cell_type": "markdown",
   "metadata": {},
   "source": [
    "Here as always our work is to get the dependencies and data for the temperature and humidity values of Seaged.\n",
    "There is a lot of data values in the original dataset but here we are intereted only in the temperature and humidity values and also get the prediction of humidity for given temperature.\n",
    "we'll see the multivariate regression case in the next file."
   ]
  },
  {
   "cell_type": "code",
   "execution_count": 1,
   "metadata": {},
   "outputs": [
    {
     "name": "stdout",
     "output_type": "stream",
     "text": [
      "   Temperature (C)  Humidity\n",
      "0         9.472222      0.89\n",
      "1         9.355556      0.86\n",
      "2         9.377778      0.89\n",
      "3         8.288889      0.83\n",
      "4         8.755556      0.83\n"
     ]
    }
   ],
   "source": [
    "import pandas as pd\n",
    "import numpy as np\n",
    "\n",
    "dataset=pd.read_csv('weatherHistory-data.csv')\n",
    "\n",
    "data=dataset[[\"Temperature (C)\",\"Humidity\"]]\n",
    "print(data.head())"
   ]
  },
  {
   "cell_type": "code",
   "execution_count": 2,
   "metadata": {},
   "outputs": [
    {
     "name": "stdout",
     "output_type": "stream",
     "text": [
      "[[ 9.47222222  0.89      ]\n",
      " [ 9.35555556  0.86      ]\n",
      " [ 9.37777778  0.89      ]\n",
      " ...\n",
      " [22.03888889  0.56      ]\n",
      " [21.52222222  0.6       ]\n",
      " [20.43888889  0.61      ]]\n"
     ]
    }
   ],
   "source": [
    "data=data.values\n",
    "\n",
    "print(data)"
   ]
  },
  {
   "cell_type": "markdown",
   "metadata": {},
   "source": [
    "## Getting Data values for training and testing"
   ]
  },
  {
   "cell_type": "markdown",
   "metadata": {},
   "source": [
    "We consider the n-20 values, where n is the number of temperature data elements is taken as temperature value for training in the form of temperature_train and last 20 values from the whole data of temperature values and take that as temperature_test for testing purposes. The data is reshaped into column vector"
   ]
  },
  {
   "cell_type": "code",
   "execution_count": 3,
   "metadata": {},
   "outputs": [
    {
     "name": "stdout",
     "output_type": "stream",
     "text": [
      "[[ 9.47222222]\n",
      " [ 9.35555556]\n",
      " [ 9.37777778]\n",
      " ...\n",
      " [16.62222222]\n",
      " [16.14444444]\n",
      " [15.59444444]]\n"
     ]
    }
   ],
   "source": [
    "temperature=data[:,0]\n",
    "temperature=temperature.reshape(len(temperature),1)\n",
    "temperature_train=temperature[:-20]\n",
    "temperature_test=temperature[-20:]\n",
    "print(temperature_train)"
   ]
  },
  {
   "cell_type": "markdown",
   "metadata": {},
   "source": [
    "Same we do here for humidity data..instead we take n-20 values as humidity_train and last 20 as humidity_test. Similarly humidity data is also reshaped into a column vector"
   ]
  },
  {
   "cell_type": "code",
   "execution_count": 4,
   "metadata": {},
   "outputs": [
    {
     "name": "stdout",
     "output_type": "stream",
     "text": [
      "[[0.89]\n",
      " [0.86]\n",
      " [0.89]\n",
      " ...\n",
      " [0.87]\n",
      " [0.87]\n",
      " [0.87]]\n"
     ]
    }
   ],
   "source": [
    "humidity=data[:,1]\n",
    "humidity=humidity.reshape(len(humidity),1)\n",
    "humidity_train=humidity[:-20]\n",
    "humidity_test=humidity[-20:]\n",
    "print(humidity_train)"
   ]
  },
  {
   "cell_type": "markdown",
   "metadata": {},
   "source": [
    "## Load Data to Linear regression model"
   ]
  },
  {
   "cell_type": "markdown",
   "metadata": {},
   "source": [
    "Firstly we use Linear regression model to ge the values for humidity corresponding to the temperature_test data.\n",
    "As we all know linear regression fits a straight line through the data and to get a straight line you need two components, the slope, given by the model.coef_ and the intercept, given by model.intercept_."
   ]
  },
  {
   "cell_type": "code",
   "execution_count": 5,
   "metadata": {},
   "outputs": [
    {
     "name": "stdout",
     "output_type": "stream",
     "text": [
      "[[0.69508341]\n",
      " [0.69501154]\n",
      " [0.70981624]\n",
      " [0.68135672]\n",
      " [0.63622395]\n",
      " [0.60287744]\n",
      " [0.59339094]\n",
      " [0.53905913]\n",
      " [0.51584594]\n",
      " [0.4883207 ]\n",
      " [0.48961432]\n",
      " [0.48717082]\n",
      " [0.48717082]\n",
      " [0.49126727]\n",
      " [0.51620528]\n",
      " [0.55271395]\n",
      " [0.57125576]\n",
      " [0.60417106]\n",
      " [0.61085473]\n",
      " [0.62486889]]\n",
      "The slope of  the line is :  [[-0.01293614]]\n",
      "The intercepts of the line is :  [0.8892693]\n"
     ]
    }
   ],
   "source": [
    "from sklearn.linear_model import LinearRegression\n",
    "\n",
    "model=LinearRegression()\n",
    "\n",
    "model.fit(temperature_train,humidity_train)\n",
    "\n",
    "pred=model.predict(temperature_test)\n",
    "print(pred)\n",
    "\n",
    "print(\"The slope of  the line is : \",model.coef_)\n",
    "print(\"The intercepts of the line is : \",model.intercept_)"
   ]
  },
  {
   "cell_type": "markdown",
   "metadata": {},
   "source": [
    "## Visualization"
   ]
  },
  {
   "cell_type": "markdown",
   "metadata": {},
   "source": [
    "Using matplotlib's pyplot module we can plot the validation of our model. The scatter plot is used to find the (temperature,humidity) points and then we draw our trained regression line on it."
   ]
  },
  {
   "cell_type": "code",
   "execution_count": 7,
   "metadata": {},
   "outputs": [
    {
     "data": {
      "image/png": "[encoded data removed]",
      "text/plain": [
       "<Figure size 432x288 with 1 Axes>"
      ]
     },
     "metadata": {},
     "output_type": "display_data"
    }
   ],
   "source": [
    "import matplotlib.pyplot as plt\n",
    "\n",
    "\n",
    "plt.scatter(temperature_test, humidity_test,  color='black')\n",
    "plt.plot(temperature_test,pred, color='blue', linewidth=3)\n",
    "\n",
    "plt.xticks(())\n",
    "plt.yticks(())\n",
    "\n",
    "plt.ylabel(\"Humidity\")\n",
    "plt.xlabel(\"Temperature(C)\")\n",
    "\n",
    "plt.show()"
   ]
  },
  {
   "cell_type": "markdown",
   "metadata": {},
   "source": [
    "## Evaluating Linear regression model"
   ]
  },
  {
   "cell_type": "markdown",
   "metadata": {},
   "source": [
    "We will find the mean squared error and the R-squared score of the linear regression model. Detailed explaination regarding both the metrics are given in the README.md file. Kindly go through those."
   ]
  },
  {
   "cell_type": "code",
   "execution_count": 8,
   "metadata": {},
   "outputs": [
    {
     "name": "stdout",
     "output_type": "stream",
     "text": [
      "Mean squared error is :  0.024970952601698654\n",
      "r2 score is :  0.5191675272020324\n"
     ]
    }
   ],
   "source": [
    "from sklearn.metrics import mean_squared_error,r2_score\n",
    "\n",
    "print(\"Mean squared error is : \",mean_squared_error(humidity_test,pred))\n",
    "print(\"r2 score is : \",r2_score(humidity_test,pred))"
   ]
  },
  {
   "cell_type": "markdown",
   "metadata": {},
   "source": [
    "## Load data into Support Vector Regression model"
   ]
  },
  {
   "cell_type": "markdown",
   "metadata": {},
   "source": [
    "Now that we have seen how the Linear regression model performs on the single variable temperature vs humidity. Now we'll see how would a support vector regression model(SVR) perform for the same variables.\n",
    "Most of the times, your dataset will contain features highly varying in magnitudes, units and range.\n",
    "If left alone, these algorithms only take in the magnitude of features neglecting the units. The results would vary greatly between different units, 5kg and 5000gms. The features with high magnitudes will weigh in a lot more in the distance calculations than features with low magnitudes.\n",
    "To supress this effect, we need to bring all features to the same level of magnitudes. This can be acheived by scaling.\n",
    "Here we are using sklearn's in-built StandardScaler() function."
   ]
  },
  {
   "cell_type": "code",
   "execution_count": 9,
   "metadata": {},
   "outputs": [],
   "source": [
    "from sklearn.preprocessing import StandardScaler\n",
    "\n",
    "temperature_scaled=StandardScaler()\n",
    "temperature_train = temperature_scaled.fit_transform(temperature_train)\n",
    "humidity_scaled = StandardScaler()\n",
    "humidity_train = humidity_scaled.fit_transform(humidity_train)\n",
    "temperature_test_scaled= StandardScaler()\n",
    "temperature_test=temperature_test_scaled.fit_transform(temperature_test)\n",
    "humidity_test_scaled=StandardScaler()\n",
    "humidity_test=humidity_test_scaled.fit_transform(humidity_test)"
   ]
  },
  {
   "cell_type": "code",
   "execution_count": 10,
   "metadata": {},
   "outputs": [
    {
     "name": "stdout",
     "output_type": "stream",
     "text": [
      "[ 1.08653698  1.08588646  1.2198944   0.96228691  0.55375785  0.25191472\n",
      "  0.16604556 -0.32575057 -0.53586982 -0.7850205  -0.77331107 -0.79542888\n",
      " -0.79542888 -0.75834902 -0.5326172  -0.20215101 -0.03431583  0.26362415\n",
      "  0.32412288  0.45097506]\n"
     ]
    }
   ],
   "source": [
    "from sklearn.svm import SVR\n",
    "\n",
    "model1=SVR(kernel=\"linear\")\n",
    "\n",
    "model1.fit(temperature_train,humidity_train.ravel())\n",
    "pred1=model1.predict(temperature_test)\n",
    "\n",
    "print(pred1)"
   ]
  },
  {
   "cell_type": "code",
   "execution_count": 11,
   "metadata": {},
   "outputs": [
    {
     "name": "stdout",
     "output_type": "stream",
     "text": [
      "Mean squared error is :  0.11827346939324541\n",
      "r2 score is :  0.8817265306067545\n"
     ]
    }
   ],
   "source": [
    "from sklearn.metrics import mean_squared_error,r2_score\n",
    "\n",
    "print(\"Mean squared error is : \",mean_squared_error(humidity_test,pred1))\n",
    "print(\"r2 score is : \",r2_score(humidity_test,pred1))"
   ]
  },
  {
   "cell_type": "markdown",
   "metadata": {},
   "source": [
    "Linear regression has lesser error compared to SVR but r-squared score is more for SVR than Linear regression"
   ]
  }
 ],
 "metadata": {
  "kernelspec": {
   "display_name": "Python 3",
   "language": "python",
   "name": "python3"
  },
  "language_info": {
   "codemirror_mode": {
    "name": "ipython",
    "version": 3
   },
   "file_extension": ".py",
   "mimetype": "text/x-python",
   "name": "python",
   "nbconvert_exporter": "python",
   "pygments_lexer": "ipython3",
   "version": "3.6.5"
  }
 },
 "nbformat": 4,
 "nbformat_minor": 2
}
