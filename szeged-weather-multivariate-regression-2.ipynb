{
 "cells": [
  {
   "cell_type": "code",
   "execution_count": 2,
   "metadata": {},
   "outputs": [
    {
     "name": "stdout",
     "output_type": "stream",
     "text": [
      "                  Formatted Date        Summary Precip Type  Temperature (C)  \\\n",
      "0  2006-04-01 00:00:00.000 +0200  Partly Cloudy        rain         9.472222   \n",
      "1  2006-04-01 01:00:00.000 +0200  Partly Cloudy        rain         9.355556   \n",
      "2  2006-04-01 02:00:00.000 +0200  Mostly Cloudy        rain         9.377778   \n",
      "3  2006-04-01 03:00:00.000 +0200  Partly Cloudy        rain         8.288889   \n",
      "4  2006-04-01 04:00:00.000 +0200  Mostly Cloudy        rain         8.755556   \n",
      "\n",
      "   Apparent Temperature (C)  Humidity  Wind Speed (km/h)  \\\n",
      "0                  7.388889      0.89            14.1197   \n",
      "1                  7.227778      0.86            14.2646   \n",
      "2                  9.377778      0.89             3.9284   \n",
      "3                  5.944444      0.83            14.1036   \n",
      "4                  6.977778      0.83            11.0446   \n",
      "\n",
      "   Wind Bearing (degrees)  Visibility (km)  Loud Cover  Pressure (millibars)  \\\n",
      "0                   251.0          15.8263         0.0               1015.13   \n",
      "1                   259.0          15.8263         0.0               1015.63   \n",
      "2                   204.0          14.9569         0.0               1015.94   \n",
      "3                   269.0          15.8263         0.0               1016.41   \n",
      "4                   259.0          15.8263         0.0               1016.51   \n",
      "\n",
      "                       Daily Summary  \n",
      "0  Partly cloudy throughout the day.  \n",
      "1  Partly cloudy throughout the day.  \n",
      "2  Partly cloudy throughout the day.  \n",
      "3  Partly cloudy throughout the day.  \n",
      "4  Partly cloudy throughout the day.  \n",
      "   Apparent Temperature (C)  Wind Speed (km/h)  Wind Bearing (degrees)\n",
      "0                  7.388889            14.1197                   251.0\n",
      "1                  7.227778            14.2646                   259.0\n",
      "2                  9.377778             3.9284                   204.0\n",
      "3                  5.944444            14.1036                   269.0\n",
      "4                  6.977778            11.0446                   259.0\n",
      "   Humidity\n",
      "0      0.89\n",
      "1      0.86\n",
      "2      0.89\n",
      "3      0.83\n",
      "4      0.83\n"
     ]
    }
   ],
   "source": [
    "import pandas as pd\n",
    "import numpy as np\n",
    "\n",
    "dataset=pd.read_csv('weatherHistory-data.csv')\n",
    "\n",
    "print(dataset.head())\n",
    "\n",
    "data=dataset[[\"Apparent Temperature (C)\",\"Wind Speed (km/h)\",\"Wind Bearing (degrees)\"]]\n",
    "target=dataset[[\"Humidity\"]]\n",
    "print(data.head())\n",
    "print(target.head())"
   ]
  },
  {
   "cell_type": "markdown",
   "metadata": {},
   "source": [
    "Here we consider Apparent Tempaerature, Wind Speed and Wind Bearing as parameters to decide the humidity. We can also do feature selection and other related algorithms but that wil again make this project long., i've already implemented it in Heart-disease repo..check it out."
   ]
  },
  {
   "cell_type": "code",
   "execution_count": 3,
   "metadata": {},
   "outputs": [
    {
     "name": "stdout",
     "output_type": "stream",
     "text": [
      "   Apparent Temperature (C)  Wind Speed (km/h)  Wind Bearing (degrees)\n",
      "0                  7.388889            14.1197                   251.0\n",
      "1                  7.227778            14.2646                   259.0\n",
      "2                  9.377778             3.9284                   204.0\n",
      "3                  5.944444            14.1036                   269.0\n",
      "4                  6.977778            11.0446                   259.0\n",
      "   Humidity\n",
      "0      0.89\n",
      "1      0.86\n",
      "2      0.89\n",
      "3      0.83\n",
      "4      0.83\n"
     ]
    }
   ],
   "source": [
    "data=dataset[[\"Apparent Temperature (C)\",\"Wind Speed (km/h)\",\"Wind Bearing (degrees)\"]]\n",
    "target=dataset[[\"Humidity\"]]\n",
    "print(data.head())\n",
    "print(target.head())"
   ]
  },
  {
   "cell_type": "code",
   "execution_count": 32,
   "metadata": {},
   "outputs": [
    {
     "name": "stdout",
     "output_type": "stream",
     "text": [
      "       Apparent Temperature (C)  Wind Speed (km/h)  Wind Bearing (degrees)\n",
      "95679                  5.900000            10.9319                   350.0\n",
      "70819                 15.088889             9.0482                    20.0\n",
      "6028                  13.483333             3.1395                   129.0\n",
      "47353                -10.905556             5.9409                   128.0\n",
      "25991                 11.627778             3.5903                   320.0\n",
      "       Humidity\n",
      "95679      0.88\n",
      "70819      0.66\n",
      "6028       0.89\n",
      "47353      0.96\n",
      "25991      0.88\n"
     ]
    }
   ],
   "source": [
    "from sklearn.model_selection import train_test_split\n",
    "\n",
    "x_train,x_test,y_train,y_test=train_test_split(data,target,test_size=0.33,random_state=4)\n",
    "\n",
    "print(x_train.head())\n",
    "print(y_train.head())"
   ]
  },
  {
   "cell_type": "code",
   "execution_count": 33,
   "metadata": {},
   "outputs": [
    {
     "name": "stdout",
     "output_type": "stream",
     "text": [
      "[[0.94126587]\n",
      " [0.81154384]\n",
      " [0.78598374]\n",
      " ...\n",
      " [0.61485877]\n",
      " [0.59531571]\n",
      " [0.74041975]]\n",
      "The slope of  the line is :  [[-1.13552013e-02 -7.41859220e-03  8.15464122e-05]]\n",
      "The intercepts of the line is :  [0.92268869]\n",
      "Mean squared error is :  0.021330882201312986\n",
      "r2 score is :  0.43333173768420674\n"
     ]
    }
   ],
   "source": [
    "from sklearn.linear_model import LinearRegression\n",
    "\n",
    "model=LinearRegression()\n",
    "\n",
    "model.fit(x_train,y_train)\n",
    "\n",
    "pred=model.predict(x_test)\n",
    "print(pred)\n",
    "\n",
    "print(\"The slope of  the line is : \",model.coef_)\n",
    "print(\"The intercepts of the line is : \",model.intercept_)\n",
    "\n",
    "from sklearn.metrics import mean_squared_error,r2_score\n",
    "\n",
    "print(\"Mean squared error is : \",mean_squared_error(y_test,pred))\n",
    "print(\"r2 score is : \",r2_score(y_test,pred))"
   ]
  },
  {
   "cell_type": "markdown",
   "metadata": {},
   "source": [
    "Linear regression with these variables has performed a bit better than the previous two approaches. Now let's find out what is the case of SVR. "
   ]
  },
  {
   "cell_type": "code",
   "execution_count": 38,
   "metadata": {},
   "outputs": [],
   "source": [
    "from sklearn.preprocessing import StandardScaler\n",
    "\n",
    "x_scaled=StandardScaler()\n",
    "x_train = x_scaled.fit_transform(x_train)\n",
    "humidity_scaled = StandardScaler()\n",
    "humidity_train = humidity_scaled.fit_transform(y_train)\n",
    "x_test_scaled= StandardScaler()\n",
    "x_test=x_test_scaled.fit_transform(x_test)\n",
    "humidity_test_scaled=StandardScaler()\n",
    "humidity_test=humidity_test_scaled.fit_transform(y_test)"
   ]
  },
  {
   "cell_type": "code",
   "execution_count": 39,
   "metadata": {},
   "outputs": [
    {
     "name": "stdout",
     "output_type": "stream",
     "text": [
      "[ 1.1244776   0.47054167  0.3251894  ... -0.56943311 -0.67462998\n",
      "  0.09934209]\n",
      "Mean squared error is :  0.5704527332620383\n",
      "r2 score is :  0.42954726673796173\n"
     ]
    }
   ],
   "source": [
    "from sklearn.svm import SVR\n",
    "\n",
    "model1=SVR(kernel=\"linear\")\n",
    "\n",
    "model1.fit(x_train,humidity_train.ravel())\n",
    "pred1=model1.predict(x_test)\n",
    "\n",
    "print(pred1)\n",
    "\n",
    "from sklearn.metrics import mean_squared_error,r2_score\n",
    "\n",
    "print(\"Mean squared error is : \",mean_squared_error(humidity_test,pred1))\n",
    "print(\"r2 score is : \",r2_score(humidity_test,pred1))"
   ]
  },
  {
   "cell_type": "markdown",
   "metadata": {},
   "source": [
    "Though there is not much change in the r-squared score, the MSE has definitely incresed."
   ]
  }
 ],
 "metadata": {
  "kernelspec": {
   "display_name": "Python 3",
   "language": "python",
   "name": "python3"
  },
  "language_info": {
   "codemirror_mode": {
    "name": "ipython",
    "version": 3
   },
   "file_extension": ".py",
   "mimetype": "text/x-python",
   "name": "python",
   "nbconvert_exporter": "python",
   "pygments_lexer": "ipython3",
   "version": "3.6.5"
  }
 },
 "nbformat": 4,
 "nbformat_minor": 2
}
